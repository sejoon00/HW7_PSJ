{
 "cells": [
  {
   "cell_type": "code",
   "execution_count": 7,
   "id": "2e2ba3ae",
   "metadata": {},
   "outputs": [
    {
     "name": "stdout",
     "output_type": "stream",
     "text": [
      "고유값: [-0.37228132  5.37228132]\n",
      "\n",
      "고유벡터:\n",
      "[[-0.82456484 -0.41597356]\n",
      " [ 0.56576746 -0.90937671]]\n",
      "\n",
      "행렬식: -2.0000000000000004\n",
      "\n",
      "외적: [-3  6 -3]\n",
      "\n",
      "해: [-1. -4.  3.]\n"
     ]
    }
   ],
   "source": [
    "import numpy as np\n",
    "\n",
    "# 정사각 배열 정의\n",
    "array = np.array([[1, 2],\n",
    "                  [3, 4]])\n",
    "\n",
    "# 고유값, 고유벡터 계산\n",
    "eigenvalues, eigenvectors = np.linalg.eig(array)\n",
    "\n",
    "# 행렬식 계산\n",
    "determinant = np.linalg.det(array)\n",
    "\n",
    "# 두 개의 벡터 정의\n",
    "vector1 = np.array([1, 2, 3])\n",
    "vector2 = np.array([4, 5, 6])\n",
    "\n",
    "# 외적 계산\n",
    "cross_product = np.cross(vector1, vector2)\n",
    "\n",
    "# 계수 행렬 정의\n",
    "coefficients = np.array([[1, 2, -2],\n",
    "                         [2, 1, -5],\n",
    "                         [1, -4,1]])\n",
    "\n",
    "# 상수 벡터 정의\n",
    "constants = np.array([-15, -21, 18])\n",
    "\n",
    "# 방정식 체계 풀기\n",
    "solution = np.linalg.solve(coefficients, constants)\n",
    "\n",
    "\n",
    "\n",
    "\n",
    "print(\"고유값:\", eigenvalues)\n",
    "print()\n",
    "\n",
    "print(\"고유벡터:\")\n",
    "print(eigenvectors)\n",
    "print()\n",
    "\n",
    "print(\"행렬식:\", determinant)\n",
    "print()\n",
    "\n",
    "print(\"외적:\", cross_product)\n",
    "print()\n",
    "\n",
    "print(\"해:\", solution)\n"
   ]
  },
  {
   "cell_type": "code",
   "execution_count": null,
   "id": "3f9fac93",
   "metadata": {},
   "outputs": [],
   "source": []
  }
 ],
 "metadata": {
  "kernelspec": {
   "display_name": "Python 3 (ipykernel)",
   "language": "python",
   "name": "python3"
  },
  "language_info": {
   "codemirror_mode": {
    "name": "ipython",
    "version": 3
   },
   "file_extension": ".py",
   "mimetype": "text/x-python",
   "name": "python",
   "nbconvert_exporter": "python",
   "pygments_lexer": "ipython3",
   "version": "3.9.13"
  }
 },
 "nbformat": 4,
 "nbformat_minor": 5
}
