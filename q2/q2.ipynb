{
 "cells": [
  {
   "cell_type": "code",
   "execution_count": 2,
   "id": "84b5e0e2",
   "metadata": {},
   "outputs": [
    {
     "name": "stdout",
     "output_type": "stream",
     "text": [
      "doc1 = 0.58\n",
      "doc2 = 0.87\n",
      "doc3 = 0.67\n"
     ]
    }
   ],
   "source": [
    "import numpy as np\n",
    "\n",
    "# 3개의 문서(Docs)를 2차원 배열로 표현\n",
    "docs = np.array([[1, 1, 0, 1, 0, 1],\n",
    "                 [1, 1, 1, 0, 1, 0],\n",
    "                 [1, 1, 0, 1, 0, 0]])\n",
    "\n",
    "# 질의(Query)를 1차원 배열로 표현\n",
    "query = np.array([1, 1, 0, 0, 1, 0])\n",
    "\n",
    "# 문서와 질의의 코사인 유사도 계산\n",
    "def cosine_similarity(doc, query):\n",
    "    dot_product = np.dot(doc, query)\n",
    "    doc_norm = np.linalg.norm(doc)\n",
    "    query_norm = np.linalg.norm(query)\n",
    "    similarity = dot_product / (doc_norm * query_norm)\n",
    "    return similarity\n",
    "\n",
    "# 각 문서와 질의의 코사인 유사도 계산 및 출력\n",
    "for i, doc in enumerate(docs):\n",
    "    similarity = cosine_similarity(doc, query)\n",
    "    print(f\"doc{i+1} = {similarity:.2f}\")"
   ]
  },
  {
   "cell_type": "code",
   "execution_count": null,
   "id": "1b97e73d",
   "metadata": {},
   "outputs": [],
   "source": []
  }
 ],
 "metadata": {
  "kernelspec": {
   "display_name": "Python 3 (ipykernel)",
   "language": "python",
   "name": "python3"
  },
  "language_info": {
   "codemirror_mode": {
    "name": "ipython",
    "version": 3
   },
   "file_extension": ".py",
   "mimetype": "text/x-python",
   "name": "python",
   "nbconvert_exporter": "python",
   "pygments_lexer": "ipython3",
   "version": "3.9.13"
  }
 },
 "nbformat": 4,
 "nbformat_minor": 5
}
